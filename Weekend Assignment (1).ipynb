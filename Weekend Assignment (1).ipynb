{
 "cells": [
  {
   "cell_type": "code",
   "execution_count": 15,
   "metadata": {},
   "outputs": [
    {
     "name": "stdout",
     "output_type": "stream",
     "text": [
      "I want to visit:  ['Ireland', 'England', 'Hawaii', 'Norway', 'Italy']\n",
      " \n",
      "I decided to visit my bucket list locations in this order:  ['England', 'Hawaii', 'Ireland', 'Italy', 'Norway']\n",
      "Maybe I'll see my bucket list locations in my original order:  ['Ireland', 'England', 'Hawaii', 'Norway', 'Italy']\n",
      " \n",
      "Wait, I want to visit in this order:  ['Norway', 'Italy', 'Ireland', 'Hawaii', 'England']\n",
      "Wait, I changed my mind back to the original order:  ['Ireland', 'England', 'Hawaii', 'Norway', 'Italy']\n",
      " \n",
      "I've thought it over, I'll visit in this order:  ['Italy', 'Norway', 'Hawaii', 'England', 'Ireland']\n",
      "This sounds better:  ['Ireland', 'England', 'Hawaii', 'Norway', 'Italy']\n",
      " \n",
      "Sigh, I'm sorry I'm changing my mind, I want this:  ['England', 'Hawaii', 'Ireland', 'Italy', 'Norway']\n",
      "Wait - this way:  ['Norway', 'Italy', 'Ireland', 'Hawaii', 'England']\n",
      " \n",
      "Geez, never mind, I'm staying home...forever\n"
     ]
    }
   ],
   "source": [
    "bucket_list_locations = []\n",
    "bucket_list_locations = [\"Ireland\",\"England\",\"Hawaii\",\"Norway\",\"Italy\"]\n",
    "\n",
    "print(\"I want to visit: \",bucket_list_locations)\n",
    "\n",
    "print(\" \")\n",
    "order_list = sorted(bucket_list_locations)\n",
    "print(\"I decided to visit my bucket list locations in this order: \",order_list)\n",
    "print(\"Maybe I'll see my bucket list locations in my original order: \", bucket_list_locations)\n",
    "\n",
    "print(\" \")\n",
    "order_list = sorted(bucket_list_locations, reverse = True)\n",
    "print(\"Wait, I want to visit in this order: \",order_list)\n",
    "print(\"Wait, I changed my mind back to the original order: \", bucket_list_locations)\n",
    " \n",
    "print(\" \")\n",
    "bucket_list_locations.reverse()\n",
    "print(\"I've thought it over, I'll visit in this order: \", bucket_list_locations)\n",
    "bucket_list_locations.reverse()\n",
    "print(\"This sounds better: \", bucket_list_locations)\n",
    "\n",
    "print(\" \")\n",
    "bucket_list_locations.sort()\n",
    "print(\"Sigh, I'm sorry I'm changing my mind, I want this: \", bucket_list_locations)\n",
    "bucket_list_locations.sort(reverse=True)\n",
    "print(\"Wait - this way: \", bucket_list_locations)\n",
    "\n",
    "print(\" \")\n",
    "print(\"Geez, never mind, I'm staying home...forever\")\n",
    "\n",
    "          \n"
   ]
  },
  {
   "cell_type": "code",
   "execution_count": null,
   "metadata": {},
   "outputs": [],
   "source": []
  }
 ],
 "metadata": {
  "kernelspec": {
   "display_name": "Python 3",
   "language": "python",
   "name": "python3"
  },
  "language_info": {
   "codemirror_mode": {
    "name": "ipython",
    "version": 3
   },
   "file_extension": ".py",
   "mimetype": "text/x-python",
   "name": "python",
   "nbconvert_exporter": "python",
   "pygments_lexer": "ipython3",
   "version": "3.7.6"
  }
 },
 "nbformat": 4,
 "nbformat_minor": 4
}
