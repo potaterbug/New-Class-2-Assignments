{
 "cells": [
  {
   "cell_type": "markdown",
   "metadata": {},
   "source": [
    "Ask for a color and store that answer\n",
    "If the answer is grey then print out you found Victor's favorite color.\n",
    "Otherwise print out the color is not Victor's favorite color."
   ]
  },
  {
   "cell_type": "code",
   "execution_count": 1,
   "metadata": {},
   "outputs": [
    {
     "name": "stdout",
     "output_type": "stream",
     "text": [
      "What is Victor's favorite color? gray\n",
      "Victor's favorite color gray was found\n"
     ]
    }
   ],
   "source": [
    "color = input(\"What is Victor's favorite color? \")\n",
    "if color == \"gray\":\n",
    "    print(f\"Victor's favorite color {color} was found\")\n",
    "else:\n",
    "    print(f\"{color} is not Victor's favorite color\")"
   ]
  },
  {
   "cell_type": "markdown",
   "metadata": {},
   "source": [
    "Now with the code before add in more conditions for other colors such as red, green, blue and write statements for them. "
   ]
  },
  {
   "cell_type": "code",
   "execution_count": 2,
   "metadata": {},
   "outputs": [
    {
     "name": "stdout",
     "output_type": "stream",
     "text": [
      "What is Victor's favorite color?red\n",
      "Victor despises red\n"
     ]
    }
   ],
   "source": [
    "color = input(\"What is Victor's favorite color?\")\n",
    "if color == \"gray\":\n",
    "    print(f\"Victor's favorite color {color} was found\")\n",
    "elif color == \"red\":\n",
    "    print(f\"Victor despises {color}\")\n",
    "elif color == \"green\":\n",
    "    print(f\"Victor is {color} with envy\")\n",
    "elif color == \"blue\":\n",
    "    print(f\"Victor is feeling {color}\")\n",
    "else:\n",
    "    print(f\"{color} is not Victor's favorite color\")"
   ]
  },
  {
   "cell_type": "markdown",
   "metadata": {},
   "source": [
    "Ask for an exam score and store that number\n",
    "If the number is greater than 100\n",
    "print out you cannot have an exam score higher than 100.\n",
    "if the number doesn't exceeed 100 but is greater than 75\n",
    "print out you did great on your exam!\n",
    "otherwise if they scored lower than 75\n",
    "print out that they need to study harder."
   ]
  },
  {
   "cell_type": "code",
   "execution_count": 3,
   "metadata": {},
   "outputs": [
    {
     "name": "stdout",
     "output_type": "stream",
     "text": [
      "Input your exam score: 100\n",
      "100 - you did great on your exam!\n"
     ]
    }
   ],
   "source": [
    "grade = int(input(\"Input your exam score: \"))\n",
    "if grade > 100:\n",
    "    print(f\"{grade} cannot be above 100\")\n",
    "elif grade > 75:\n",
    "    print(f\"{grade} - you did great on your exam!\")\n",
    "else:\n",
    "    print(f\"{grade} - you need to study harder.\")"
   ]
  },
  {
   "cell_type": "markdown",
   "metadata": {},
   "source": [
    "Define a function that takes in 3 numbers and adds them together\n",
    "Define a function that takes in 2 numbers and multiplies them\n",
    "Tell the user to choose option 1 to add three numbers or to choose option 2 to mutiply two numbers.\n",
    "If they choose 1 then use the first function otherwise if they choose 2 then use the second function. "
   ]
  },
  {
   "cell_type": "code",
   "execution_count": 4,
   "metadata": {},
   "outputs": [
    {
     "name": "stdout",
     "output_type": "stream",
     "text": [
      "Pick an option from the menu below:\n",
      " \n",
      "1 - I want to add three numbers together\n",
      "2 - I want to multiply two numbers together\n",
      " \n",
      "Input 1 or 2: 1\n",
      " \n",
      "Option 1 selected:  add three numbers together\n",
      "Input 1st number: 1\n",
      "Input 2nd number: 1\n",
      "Input 3rd number: 1\n",
      "3 = 1 + 1 + 1\n"
     ]
    }
   ],
   "source": [
    "def add_three_numbers():\n",
    "    int1 = int(input(\"Input 1st number: \"))\n",
    "    int2 = int(input(\"Input 2nd number: \"))\n",
    "    int3 = int(input(\"Input 3rd number: \"))\n",
    "    total = int1 + int2 + int3\n",
    "    print(f\"{total} = {int1} + {int2} + {int3}\")\n",
    "\n",
    "def mult_two_numbers():\n",
    "    int1 = int(input(\"Input 1st number: \"))\n",
    "    int2 = int(input(\"Input 2nd number: \"))\n",
    "    multiplier = int1 * int2\n",
    "    print(f\"{multiplier} =  {int1} * {int2}\")\n",
    "\n",
    "print(\"Pick an option from the menu below:\")\n",
    "print(\" \")\n",
    "print(\"1 - I want to add three numbers together\")\n",
    "print(\"2 - I want to multiply two numbers together\")\n",
    "print(\" \")\n",
    "option = int(input(\"Input 1 or 2: \"))\n",
    "\n",
    "if option == 1:\n",
    "    print(\" \")\n",
    "    print(\"Option 1 selected:  add three numbers together\")\n",
    "    add_three_numbers()\n",
    "elif option == 2:\n",
    "    print(\" \")\n",
    "    print(\"Option 2 selected:  multiple two numbers together\")\n",
    "    mult_two_numbers()\n",
    "else:\n",
    "    print(\"Valid menu choices are 1 or 2.  {option} is not valid\")"
   ]
  },
  {
   "cell_type": "markdown",
   "metadata": {},
   "source": [
    "Make a loop go from 50 to 100 and print every iteration"
   ]
  },
  {
   "cell_type": "code",
   "execution_count": 5,
   "metadata": {},
   "outputs": [
    {
     "name": "stdout",
     "output_type": "stream",
     "text": [
      "iteration 50\n",
      "iteration 51\n",
      "iteration 52\n",
      "iteration 53\n",
      "iteration 54\n",
      "iteration 55\n",
      "iteration 56\n",
      "iteration 57\n",
      "iteration 58\n",
      "iteration 59\n",
      "iteration 60\n",
      "iteration 61\n",
      "iteration 62\n",
      "iteration 63\n",
      "iteration 64\n",
      "iteration 65\n",
      "iteration 66\n",
      "iteration 67\n",
      "iteration 68\n",
      "iteration 69\n",
      "iteration 70\n",
      "iteration 71\n",
      "iteration 72\n",
      "iteration 73\n",
      "iteration 74\n",
      "iteration 75\n",
      "iteration 76\n",
      "iteration 77\n",
      "iteration 78\n",
      "iteration 79\n",
      "iteration 80\n",
      "iteration 81\n",
      "iteration 82\n",
      "iteration 83\n",
      "iteration 84\n",
      "iteration 85\n",
      "iteration 86\n",
      "iteration 87\n",
      "iteration 88\n",
      "iteration 89\n",
      "iteration 90\n",
      "iteration 91\n",
      "iteration 92\n",
      "iteration 93\n",
      "iteration 94\n",
      "iteration 95\n",
      "iteration 96\n",
      "iteration 97\n",
      "iteration 98\n",
      "iteration 99\n",
      "iteration 100\n"
     ]
    }
   ],
   "source": [
    "for loop_ctr in range(50,101):\n",
    "    print(\"iteration\", loop_ctr)"
   ]
  },
  {
   "cell_type": "markdown",
   "metadata": {},
   "source": [
    "Make an empty list and call it names"
   ]
  },
  {
   "cell_type": "code",
   "execution_count": 3,
   "metadata": {},
   "outputs": [],
   "source": [
    "names = []"
   ]
  },
  {
   "cell_type": "markdown",
   "metadata": {},
   "source": [
    "Make names filled with names of 5 people (Hannah, Victor, Sam, James, John)"
   ]
  },
  {
   "cell_type": "code",
   "execution_count": 4,
   "metadata": {},
   "outputs": [],
   "source": [
    "names = [\"Hannah\", \"Victor\", \"Sam\", \"James\", \"John\"]"
   ]
  },
  {
   "cell_type": "markdown",
   "metadata": {},
   "source": [
    "Make names sorted in reverse. Print out the list using a for-enchanced loop"
   ]
  },
  {
   "cell_type": "code",
   "execution_count": 5,
   "metadata": {},
   "outputs": [
    {
     "name": "stdout",
     "output_type": "stream",
     "text": [
      "['Hannah', 'James', 'John', 'Sam', 'Victor']\n",
      "Name:  Victor\n",
      "Name:  Sam\n",
      "Name:  John\n",
      "Name:  James\n",
      "Name:  Hannah\n",
      " \n",
      "['Hannah', 'Victor', 'Sam', 'James', 'John']\n",
      "Name:  John\n",
      "Name:  James\n",
      "Name:  Sam\n",
      "Name:  Victor\n",
      "Name:  Hannah\n"
     ]
    }
   ],
   "source": [
    "#we're going to try using append, sort, reverse in different ways for practice to see what happens\n",
    "\n",
    "#list is sorted alphabetically\n",
    "x = sorted(names)\n",
    "print(x)\n",
    "\n",
    "#names.sort with reverse = True puts names in reverse alphabetical name order\n",
    "names.sort (reverse = True)\n",
    "for name in names:\n",
    "    print(\"Name: \", name)\n",
    "\n",
    "#names.reverse will put names in reverse order of how they were entered\n",
    "names = []\n",
    "names.append(\"Hannah\")\n",
    "names.append(\"Victor\")\n",
    "names.append(\"Sam\")\n",
    "names.append(\"James\")\n",
    "names.append(\"John\")\n",
    "print(\" \")\n",
    "print(names)\n",
    "names.reverse()\n",
    "for name in names:\n",
    "    print(\"Name: \",name)"
   ]
  },
  {
   "cell_type": "markdown",
   "metadata": {},
   "source": [
    "Make names sorted alphabetically. Print out the list using regular for loop"
   ]
  },
  {
   "cell_type": "code",
   "execution_count": 9,
   "metadata": {},
   "outputs": [
    {
     "name": "stdout",
     "output_type": "stream",
     "text": [
      "Name:  Hannah\n",
      "Name:  James\n",
      "Name:  John\n",
      "Name:  Sam\n",
      "Name:  Victor\n"
     ]
    }
   ],
   "source": [
    "#names.sort will sort names alphabetically\n",
    "\n",
    "names.sort()\n",
    "for i in range(0,len(names)):\n",
    "    print(\"Name: \",names[i])"
   ]
  },
  {
   "cell_type": "markdown",
   "metadata": {},
   "source": [
    "Pull out the fourth item from names and print it out"
   ]
  },
  {
   "cell_type": "code",
   "execution_count": 15,
   "metadata": {},
   "outputs": [
    {
     "name": "stdout",
     "output_type": "stream",
     "text": [
      "Fourth name in names list is Sam\n"
     ]
    }
   ],
   "source": [
    "print(f\"Fourth name in names list is {names[3]}\")"
   ]
  },
  {
   "cell_type": "markdown",
   "metadata": {},
   "source": [
    "Pull out the first item from names and print it out"
   ]
  },
  {
   "cell_type": "code",
   "execution_count": 16,
   "metadata": {},
   "outputs": [
    {
     "name": "stdout",
     "output_type": "stream",
     "text": [
      "First name in names list is  Hannah\n"
     ]
    }
   ],
   "source": [
    "print(\"First name in names list is \", names[0])"
   ]
  },
  {
   "cell_type": "markdown",
   "metadata": {},
   "source": [
    "Make an empty list called words and add each word into the list using the append function. The words are (Hello, Python,Class, Friends, Online, Jupyter).\n",
    "Print out the list using a for-enchanced loop"
   ]
  },
  {
   "cell_type": "code",
   "execution_count": 36,
   "metadata": {},
   "outputs": [
    {
     "name": "stdout",
     "output_type": "stream",
     "text": [
      "Hello\n",
      "Python\n",
      "Class\n",
      "Friends\n",
      "Online\n",
      "Jupyter\n"
     ]
    }
   ],
   "source": [
    "words = []\n",
    "words.append(\"Hello\")\n",
    "words.append(\"Python\")\n",
    "words.append(\"Class\")\n",
    "words.append(\"Friends\")\n",
    "words.append(\"Online\")\n",
    "words.append(\"Jupyter\")\n",
    "for word in words:\n",
    "    print(word)"
   ]
  },
  {
   "cell_type": "markdown",
   "metadata": {},
   "source": [
    "Make words lose it's last word and print out the new list."
   ]
  },
  {
   "cell_type": "code",
   "execution_count": 20,
   "metadata": {},
   "outputs": [
    {
     "name": "stdout",
     "output_type": "stream",
     "text": [
      "['Hello', 'Python', 'Class', 'Friends', 'Online']\n"
     ]
    }
   ],
   "source": [
    "words.remove(\"Jupyter\")\n",
    "print(words)"
   ]
  },
  {
   "cell_type": "markdown",
   "metadata": {},
   "source": [
    "Make a variable named fruits that contains a string \"Apples Oranges Bananas Pineapples Persimmons Dragonfruit\" and make it into a list splitting it by the spaces."
   ]
  },
  {
   "cell_type": "code",
   "execution_count": 10,
   "metadata": {},
   "outputs": [
    {
     "name": "stdout",
     "output_type": "stream",
     "text": [
      "Fruit list is:  ['Apples', 'Oranges', 'Bananas', 'Pineapples', 'Persimmons', 'Dragonfruit']\n"
     ]
    }
   ],
   "source": [
    "#this is string\n",
    "fruits = 'Apples Oranges Bananas Pineapples Persimmons Dragonfruit'\n",
    "#split changed string to list\n",
    "fruit_list = fruits.split(' ')\n",
    "print(\"Fruit list is: \",fruit_list)"
   ]
  },
  {
   "cell_type": "markdown",
   "metadata": {},
   "source": [
    "Make a variable named fruits that contains a string \"Apples,Oranges,Bananas,Pineapples,Persimmons,Dragonfruit\" and make it into a list splitting it by the commas."
   ]
  },
  {
   "cell_type": "code",
   "execution_count": 11,
   "metadata": {},
   "outputs": [
    {
     "name": "stdout",
     "output_type": "stream",
     "text": [
      "Fruit list is:  ['Apples', 'Oranges', 'Bananas', 'Pineapples', 'Persimmons', 'Dragonfruit']\n"
     ]
    }
   ],
   "source": [
    "#this is string\n",
    "fruits = \"Apples,Oranges,Bananas,Pineapples,Persimmons,Dragonfruit\"\n",
    "#this is list\n",
    "fruit_list = fruits.split(',')\n",
    "print(\"Fruit list is: \",fruit_list)"
   ]
  }
 ],
 "metadata": {
  "kernelspec": {
   "display_name": "Python 3",
   "language": "python",
   "name": "python3"
  },
  "language_info": {
   "codemirror_mode": {
    "name": "ipython",
    "version": 3
   },
   "file_extension": ".py",
   "mimetype": "text/x-python",
   "name": "python",
   "nbconvert_exporter": "python",
   "pygments_lexer": "ipython3",
   "version": "3.7.6"
  }
 },
 "nbformat": 4,
 "nbformat_minor": 4
}
